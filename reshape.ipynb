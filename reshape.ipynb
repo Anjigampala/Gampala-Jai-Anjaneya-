{
  "nbformat": 4,
  "nbformat_minor": 0,
  "metadata": {
    "colab": {
      "provenance": [],
      "authorship_tag": "ABX9TyMtP9ogkM72PGXIwg8LpLl3",
      "include_colab_link": true
    },
    "kernelspec": {
      "name": "python3",
      "display_name": "Python 3"
    },
    "language_info": {
      "name": "python"
    }
  },
  "cells": [
    {
      "cell_type": "markdown",
      "metadata": {
        "id": "view-in-github",
        "colab_type": "text"
      },
      "source": [
        "<a href=\"https://colab.research.google.com/github/Anjigampala/Gampala-Jai-Anjaneya-/blob/main/reshape.ipynb\" target=\"_parent\"><img src=\"https://colab.research.google.com/assets/colab-badge.svg\" alt=\"Open In Colab\"/></a>"
      ]
    },
    {
      "cell_type": "code",
      "execution_count": 7,
      "metadata": {
        "colab": {
          "base_uri": "https://localhost:8080/"
        },
        "id": "46hwMkjTLyRe",
        "outputId": "7aa2c59c-567e-4849-d4c7-4e545cab041d"
      },
      "outputs": [
        {
          "output_type": "stream",
          "name": "stdout",
          "text": [
            "reshaping the array into an array of size (3,2)\n",
            " [[1 2]\n",
            " [3 4]\n",
            " [5 6]]\n",
            "reshaping the array into an array of size (2,3)\n",
            " [[1 2 3]\n",
            " [4 5 6]]\n",
            "reshaping the array into an array of size (6,1)\n",
            " [[1]\n",
            " [2]\n",
            " [3]\n",
            " [4]\n",
            " [5]\n",
            " [6]]\n",
            "reshaping the array into an array of size (3,2) [[[0 1 2]]\n",
            "\n",
            " [[3 4 5]]\n",
            "\n",
            " [[6 7 8]]]\n",
            "[[0 1 2]\n",
            " [3 0 1]]\n",
            "[[0 1 2 3]]\n",
            "[[0 1 2 3]\n",
            " [0 1 2 3]]\n"
          ]
        }
      ],
      "source": [
        "import numpy as np\n",
        "a=np.array([1,2,3,4,5,6])\n",
        "# reshape an 1-D array into 2-D array\n",
        "print(\"reshaping the array into an array of size (3,2)\\n\",a.reshape(3,2))\n",
        "print(\"reshaping the array into an array of size (2,3)\\n\",a.reshape(2,3))\n",
        "print(\"reshaping the array into an array of size (6,1)\\n\",a.reshape(6,1))\n",
        "# reshape an array into 3 dimensional matrix\n",
        "a1=np.arange(0,9)\n",
        "print(\"reshaping the array into an array of size (3,2)\",a1.reshape(3, 1, 3))\n",
        "# resizing the array into a larger with repeated copies of the original array\n",
        "a2=np.array([[0,1],[2,3]])\n",
        "print(np.resize(a2,(2,3)))\n",
        "print(np.resize(a2,(1,4)))\n",
        "print(np.resize(a2,(2,4)))"
      ]
    }
  ]
}