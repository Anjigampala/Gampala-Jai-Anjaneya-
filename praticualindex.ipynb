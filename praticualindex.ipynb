{
  "nbformat": 4,
  "nbformat_minor": 0,
  "metadata": {
    "colab": {
      "provenance": [],
      "authorship_tag": "ABX9TyMp6Q/GWRXC/y0uRw2lgpkS",
      "include_colab_link": true
    },
    "kernelspec": {
      "name": "python3",
      "display_name": "Python 3"
    },
    "language_info": {
      "name": "python"
    }
  },
  "cells": [
    {
      "cell_type": "markdown",
      "metadata": {
        "id": "view-in-github",
        "colab_type": "text"
      },
      "source": [
        "<a href=\"https://colab.research.google.com/github/Anjigampala/Gampala-Jai-Anjaneya-/blob/main/praticualindex.ipynb\" target=\"_parent\"><img src=\"https://colab.research.google.com/assets/colab-badge.svg\" alt=\"Open In Colab\"/></a>"
      ]
    },
    {
      "cell_type": "code",
      "execution_count": 3,
      "metadata": {
        "colab": {
          "base_uri": "https://localhost:8080/"
        },
        "id": "QJhESm76Q4mZ",
        "outputId": "ec1f84ba-1239-4c57-9874-1378aa0bb34b"
      },
      "outputs": [
        {
          "output_type": "stream",
          "name": "stdout",
          "text": [
            "Axis parameter not passed. The input array is flattened beforeinsertion.\n",
            "[ 1  2  3 11 12  4  5  6]\n",
            "Axis parameter passed. The values array is broadcast to match inputarray.\n",
            "Broadcast along axis 0:\n",
            "[[ 1  2]\n",
            " [11 11]\n",
            " [ 3  4]\n",
            " [ 5  6]]\n",
            "Broadcast along axis 1:\n",
            "[[ 1 11  2]\n",
            " [ 3 11  4]\n",
            " [ 5 11  6]]\n",
            "\n",
            " [[ 0  1  2  3]\n",
            " [ 4  5  6  7]\n",
            " [ 8  9 10 11]]\n",
            "\n",
            " [ 0  1  9  2  3  9  4  5  6  7  8  9 10 11]\n",
            "\n",
            " [[66  0  1  2 66  3]\n",
            " [66  4  5  6 66  7]\n",
            " [66  8  9 10 66 11]]\n"
          ]
        }
      ],
      "source": [
        "# inserting a value at particular index in the array\n",
        "import numpy as np\n",
        "a = np.array([[1, 2], [3, 4], [5, 6]])\n",
        "print(\"Axis parameter not passed. The input array is flattened beforeinsertion.\")\n",
        "print(np.insert(a,3,[11,12]))\n",
        "print(\"Axis parameter passed. The values array is broadcast to match inputarray.\")\n",
        "print('Broadcast along axis 0:')\n",
        "print(np.insert(a,1,[11],axis = 0))\n",
        "print('Broadcast along axis 1:')\n",
        "print(np.insert(a,1,[11],axis = 1))\n",
        "# inserting a value at different positions\n",
        "arr = np.arange(12).reshape(3, 4)\n",
        "print('\\n',arr)\n",
        "a = np.insert(arr, (2, 4), 9)\n",
        "print('\\n',a)\n",
        "# inserting and broadcasting at different positions in the array\n",
        "b = np.insert(arr, (0, 3), 66, axis = 1)\n",
        "print('\\n',b)"
      ]
    }
  ]
}