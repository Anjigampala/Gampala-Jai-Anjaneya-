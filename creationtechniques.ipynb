{
  "nbformat": 4,
  "nbformat_minor": 0,
  "metadata": {
    "colab": {
      "provenance": [],
      "authorship_tag": "ABX9TyOxKPfP57xaDvC6xL/9ka6K",
      "include_colab_link": true
    },
    "kernelspec": {
      "name": "python3",
      "display_name": "Python 3"
    },
    "language_info": {
      "name": "python"
    }
  },
  "cells": [
    {
      "cell_type": "markdown",
      "metadata": {
        "id": "view-in-github",
        "colab_type": "text"
      },
      "source": [
        "<a href=\"https://colab.research.google.com/github/Anjigampala/Gampala-Jai-Anjaneya-/blob/main/creationtechniques.ipynb\" target=\"_parent\"><img src=\"https://colab.research.google.com/assets/colab-badge.svg\" alt=\"Open In Colab\"/></a>"
      ]
    },
    {
      "cell_type": "code",
      "execution_count": 4,
      "metadata": {
        "colab": {
          "base_uri": "https://localhost:8080/"
        },
        "id": "1KLcaePQTmJ3",
        "outputId": "d072eb95-ba25-4bc2-bfbf-1edb961bc11e"
      },
      "outputs": [
        {
          "output_type": "stream",
          "name": "stdout",
          "text": [
            "\n",
            "An array intialized with all zeros: [[0. 0. 0. 0.]\n",
            " [0. 0. 0. 0.]\n",
            " [0. 0. 0. 0.]]\n",
            "An array intialized with all ones: [[1. 1. 1. 1.]\n",
            " [1. 1. 1. 1.]\n",
            " [1. 1. 1. 1.]]\n",
            "A random array: [[0.53074373 0.12648899]\n",
            " [0.33222564 0.7525701 ]]\n",
            "\n",
            " A sequential array with steps of 5: [ 0  5 10 15 20 25]\n",
            "\n",
            " A sequential array with 10 values between 0 and 5 : [0.         0.55555556 1.11111111 1.66666667 2.22222222 2.77777778\n",
            " 3.33333333 3.88888889 4.44444444 5.        ]\n",
            "\n",
            " A array with all values being 8: [[8 8 8]\n",
            " [8 8 8]\n",
            " [8 8 8]]\n"
          ]
        }
      ],
      "source": [
        "import numpy as np\n",
        "c=np.zeros((3,4))\n",
        "print(\"\\nAn array intialized with all zeros:\",c)\n",
        "d=np.ones((3,4))\n",
        "print(\"An array intialized with all ones:\",d)\n",
        "e=np.random.random((2,2))\n",
        "print(\"A random array:\",e)\n",
        "f=np.arange(0,30,5)\n",
        "print(\"\\n A sequential array with steps of 5:\",f)\n",
        "g=np.linspace(0,5,10)\n",
        "print(\"\\n A sequential array with 10 values between 0 and 5 :\",g)\n",
        "h=np.full((3,3),8)\n",
        "print(\"\\n A array with all values being 8:\",h)\n"
      ]
    }
  ]
}