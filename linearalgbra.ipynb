{
  "nbformat": 4,
  "nbformat_minor": 0,
  "metadata": {
    "colab": {
      "provenance": [],
      "authorship_tag": "ABX9TyMb2eGG/2NXiSN7XxDK5djf",
      "include_colab_link": true
    },
    "kernelspec": {
      "name": "python3",
      "display_name": "Python 3"
    },
    "language_info": {
      "name": "python"
    }
  },
  "cells": [
    {
      "cell_type": "markdown",
      "metadata": {
        "id": "view-in-github",
        "colab_type": "text"
      },
      "source": [
        "<a href=\"https://colab.research.google.com/github/Anjigampala/Gampala-Jai-Anjaneya-/blob/main/linearalgbra.ipynb\" target=\"_parent\"><img src=\"https://colab.research.google.com/assets/colab-badge.svg\" alt=\"Open In Colab\"/></a>"
      ]
    },
    {
      "cell_type": "code",
      "execution_count": 1,
      "metadata": {
        "colab": {
          "base_uri": "https://localhost:8080/"
        },
        "id": "VjAdbmofW6qV",
        "outputId": "1b3cbfaa-8051-4404-faad-4092fb66e2ca"
      },
      "outputs": [
        {
          "output_type": "stream",
          "name": "stdout",
          "text": [
            "eigen value: [-0.37228132  5.37228132] eigen vector: [[-0.82456484 -0.41597356]\n",
            " [ 0.56576746 -0.90937671]]\n"
          ]
        }
      ],
      "source": [
        "#eigen values of a matrix\n",
        "import numpy as np\n",
        "a=np.array([[1,2],[3,4]])\n",
        "eigvalues,eigvectors=np.linalg.eig(a)\n",
        "print(\"eigen value:\",eigvalues,\"eigen vector:\",eigvectors)"
      ]
    },
    {
      "cell_type": "code",
      "source": [
        "#multiplicative inverse\n",
        "import numpy as np\n",
        "a=np.array([[3,1],[1,2]])\n",
        "a_inv=np.linalg.inv(a)\n",
        "print(\"a inverse:\",a_inv)"
      ],
      "metadata": {
        "colab": {
          "base_uri": "https://localhost:8080/"
        },
        "id": "ef0OJFbGX9YB",
        "outputId": "306ff19e-7843-42c6-eb38-8e9e10a94e2d"
      },
      "execution_count": 2,
      "outputs": [
        {
          "output_type": "stream",
          "name": "stdout",
          "text": [
            "a inverse: [[ 0.4 -0.2]\n",
            " [-0.2  0.6]]\n"
          ]
        }
      ]
    },
    {
      "cell_type": "code",
      "source": [
        "#linear matric equation\n",
        "import numpy as np\n",
        "a=np.array([[3,1],[1,2]])\n",
        "b=np.array([[9],[8]])\n",
        "a_inv=np.linalg.inv(a)\n",
        "e=np.matmul(a_inv,b)\n",
        "print(\"solution for linear equations:\",e)\n",
        "# method 2\n",
        "e=np.linalg.solve(a,b)\n",
        "print(\"solution for linear equations (method2)\", e)"
      ],
      "metadata": {
        "colab": {
          "base_uri": "https://localhost:8080/"
        },
        "id": "g90tpABhYEoR",
        "outputId": "584d1ebe-08e4-479b-cf55-c07037de572f"
      },
      "execution_count": 4,
      "outputs": [
        {
          "output_type": "stream",
          "name": "stdout",
          "text": [
            "solution for linear equations: [[2.]\n",
            " [3.]]\n",
            "solution for linear equations (method2) [[2.]\n",
            " [3.]]\n"
          ]
        }
      ]
    },
    {
      "cell_type": "code",
      "source": [
        "# roots of the polynomial expression\n",
        "import numpy as np\n",
        "p = [3.2, 2, 1]\n",
        "g = np.roots(p)\n",
        "print (\"roots of the polynomial expression 3.2*x**2 +2*x+1 are\", g)\n"
      ],
      "metadata": {
        "colab": {
          "base_uri": "https://localhost:8080/"
        },
        "id": "HqbE-tsPYZbR",
        "outputId": "cc37a44d-d5a2-41d3-9b3f-18b37a1b99ae"
      },
      "execution_count": 6,
      "outputs": [
        {
          "output_type": "stream",
          "name": "stdout",
          "text": [
            "roots of the polynomial expression 3.2*x**2 +2*x+1 are [-0.3125+0.46351241j -0.3125-0.46351241j]\n"
          ]
        }
      ]
    },
    {
      "cell_type": "code",
      "source": [
        "#matrix rank\n",
        "import numpy as np\n",
        "a=np.array([[3,1],[1,2]])\n",
        "b=np.linalg.matrix_rank(a)\n",
        "print(\"rank:\",b)"
      ],
      "metadata": {
        "colab": {
          "base_uri": "https://localhost:8080/"
        },
        "id": "L3EI4c6QYfEp",
        "outputId": "a36504c0-2ff4-49a9-fe1d-c5397497e474"
      },
      "execution_count": 8,
      "outputs": [
        {
          "output_type": "stream",
          "name": "stdout",
          "text": [
            "rank: 2\n"
          ]
        }
      ]
    },
    {
      "cell_type": "code",
      "source": [
        "import numpy as np\n",
        "a=np.array([[3,1],[1,2]])\n",
        "b=np.linalg.det(a)\n",
        "print(\"determinant:\",b)"
      ],
      "metadata": {
        "colab": {
          "base_uri": "https://localhost:8080/"
        },
        "id": "B9DuZXLhYxGp",
        "outputId": "4d46e0d9-5f51-4c9b-87ad-00ffc5feaa7a"
      },
      "execution_count": 11,
      "outputs": [
        {
          "output_type": "stream",
          "name": "stdout",
          "text": [
            "determinant: 5.000000000000001\n"
          ]
        }
      ]
    }
  ]
}