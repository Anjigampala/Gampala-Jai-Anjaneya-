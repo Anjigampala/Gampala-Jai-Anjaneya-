{
  "nbformat": 4,
  "nbformat_minor": 0,
  "metadata": {
    "colab": {
      "provenance": [],
      "authorship_tag": "ABX9TyOpgBLjQYV1mr27M6RbjChT",
      "include_colab_link": true
    },
    "kernelspec": {
      "name": "python3",
      "display_name": "Python 3"
    },
    "language_info": {
      "name": "python"
    }
  },
  "cells": [
    {
      "cell_type": "markdown",
      "metadata": {
        "id": "view-in-github",
        "colab_type": "text"
      },
      "source": [
        "<a href=\"https://colab.research.google.com/github/Anjigampala/Gampala-Jai-Anjaneya-/blob/main/universalfun.ipynb\" target=\"_parent\"><img src=\"https://colab.research.google.com/assets/colab-badge.svg\" alt=\"Open In Colab\"/></a>"
      ]
    },
    {
      "cell_type": "code",
      "execution_count": 2,
      "metadata": {
        "colab": {
          "base_uri": "https://localhost:8080/"
        },
        "id": "WQdk-FDcGSp-",
        "outputId": "ebc885bb-26bc-4a0e-f64b-db93afced046"
      },
      "outputs": [
        {
          "output_type": "stream",
          "name": "stdout",
          "text": [
            "Sine of angles in the array:\n",
            "[0.00000000e+00 5.00000000e-01 7.07106781e-01 8.66025404e-01\n",
            " 1.00000000e+00 1.22464680e-16]\n",
            "Inverse Sine of sine values:\n",
            "[0.0000000e+00 3.0000000e+01 4.5000000e+01 6.0000000e+01 9.0000000e+01\n",
            " 7.0167093e-15]\n",
            "Sine hyperbolic of angles in the array:\n",
            "[ 0.          0.54785347  0.86867096  1.24936705  2.3012989  11.54873936]\n",
            "Inverse Sine hyperbolic:\n",
            "[0.         0.52359878 0.78539816 1.04719755 1.57079633 3.14159265]\n",
            "hypotenuse of right triangle is:\n",
            "5.0\n"
          ]
        }
      ],
      "source": [
        "# Python code to demonstrate trigonometric function\n",
        "import numpy as np\n",
        "\n",
        "# create an array of angles\n",
        "angles = np.array([0, 30, 45, 60, 90, 180])\n",
        "\n",
        "# conversion of degree into radians\n",
        "# using deg2rad function\n",
        "radians = np.deg2rad(angles)\n",
        "\n",
        "# sine of angles\n",
        "print('Sine of angles in the array:')\n",
        "sine_value = np.sin(radians)\n",
        "print(np.sin(radians))\n",
        "\n",
        "# inverse sine of sine values\n",
        "print('Inverse Sine of sine values:')\n",
        "print(np.rad2deg(np.arcsin(sine_value)))\n",
        "\n",
        "# hyperbolic sine of angles\n",
        "print('Sine hyperbolic of angles in the array:')\n",
        "sineh_value = np.sinh(radians)\n",
        "print(np.sinh(radians))\n",
        "\n",
        "# inverse sine hyperbolic\n",
        "print('Inverse Sine hyperbolic:')\n",
        "print(np.arcsinh(sineh_value))\n",
        "\n",
        "# hypot function demonstration\n",
        "base = 4\n",
        "height = 3\n",
        "print('hypotenuse of right triangle is:')\n",
        "print(np.hypot(base, height))"
      ]
    }
  ]
}