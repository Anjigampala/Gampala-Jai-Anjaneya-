{
  "nbformat": 4,
  "nbformat_minor": 0,
  "metadata": {
    "colab": {
      "provenance": [],
      "authorship_tag": "ABX9TyMfECZBfnChswOdFdO6AeoG",
      "include_colab_link": true
    },
    "kernelspec": {
      "name": "python3",
      "display_name": "Python 3"
    },
    "language_info": {
      "name": "python"
    }
  },
  "cells": [
    {
      "cell_type": "markdown",
      "metadata": {
        "id": "view-in-github",
        "colab_type": "text"
      },
      "source": [
        "<a href=\"https://colab.research.google.com/github/Anjigampala/Gampala-Jai-Anjaneya-/blob/main/statistical%20fun.ipynb\" target=\"_parent\"><img src=\"https://colab.research.google.com/assets/colab-badge.svg\" alt=\"Open In Colab\"/></a>"
      ]
    },
    {
      "cell_type": "code",
      "execution_count": 1,
      "metadata": {
        "colab": {
          "base_uri": "https://localhost:8080/"
        },
        "id": "9x543s3iKazt",
        "outputId": "c5519cf2-3aa8-478f-f6dd-32c255c5a943"
      },
      "outputs": [
        {
          "output_type": "stream",
          "name": "stdout",
          "text": [
            "Minimum and maximum weight of the students: \n",
            "45.0 73.25\n",
            "Range of the weight of the students: \n",
            "28.25\n",
            "Mean weight of the students: \n",
            "54.3225\n",
            "Median weight of the students: \n",
            "51.6\n",
            "Standard deviation of weight of the students: \n",
            "8.052773978574091\n",
            "Variance of weight of the students: \n",
            "64.84716875\n",
            "Average weight of the students: \n",
            "54.3225\n"
          ]
        }
      ],
      "source": [
        "# Python code demonstrate statistical functions\n",
        "import numpy as np\n",
        "# construct a weight array\n",
        "weight = np.array([50.7, 52.5, 50, 58, 55.63, 73.25, 49.5, 45])\n",
        "# minimum and maximum\n",
        "print('Minimum and maximum weight of the students: ')\n",
        "print(np.amin(weight), np.amax(weight))\n",
        "# range of weight i.e. max weight-min weight\n",
        "print('Range of the weight of the students: ')\n",
        "print(np.ptp(weight))\n",
        "# mean\n",
        "print('Mean weight of the students: ')\n",
        "print(np.mean(weight))\n",
        "# median\n",
        "print('Median weight of the students: ')\n",
        "print(np.median(weight))\n",
        "# standard deviation\n",
        "print('Standard deviation of weight of the students: ')\n",
        "print(np.std(weight))\n",
        "# variance\n",
        "print('Variance of weight of the students: ')\n",
        "print(np.var(weight))\n",
        "# average\n",
        "print('Average weight of the students: ')\n",
        "print(np.average(weight))"
      ]
    }
  ]
}