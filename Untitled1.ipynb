{
  "nbformat": 4,
  "nbformat_minor": 0,
  "metadata": {
    "colab": {
      "provenance": [],
      "authorship_tag": "ABX9TyM08rCwEZQjt73Ya6MCjeoN",
      "include_colab_link": true
    },
    "kernelspec": {
      "name": "python3",
      "display_name": "Python 3"
    },
    "language_info": {
      "name": "python"
    }
  },
  "cells": [
    {
      "cell_type": "markdown",
      "metadata": {
        "id": "view-in-github",
        "colab_type": "text"
      },
      "source": [
        "<a href=\"https://colab.research.google.com/github/Anjigampala/Gampala-Jai-Anjaneya-/blob/main/Untitled1.ipynb\" target=\"_parent\"><img src=\"https://colab.research.google.com/assets/colab-badge.svg\" alt=\"Open In Colab\"/></a>"
      ]
    },
    {
      "cell_type": "code",
      "execution_count": 4,
      "metadata": {
        "colab": {
          "base_uri": "https://localhost:8080/"
        },
        "id": "1K3pjgHyJIN_",
        "outputId": "756557d7-1674-4245-f7cb-ce885d4c990c"
      },
      "outputs": [
        {
          "output_type": "stream",
          "name": "stdout",
          "text": [
            "[6.  7.5 8.  0.  1. ]\n",
            "Array is of type: [6.  7.5 8.  0.  1. ]\n",
            "No of dimension: 1\n",
            "Shape of array: (5,)\n",
            "Size of array: 5\n",
            "Array stores elements of type: float64\n"
          ]
        }
      ],
      "source": [
        "import numpy as np\n",
        "data1=[6,7.5,8,0,1]\n",
        "arr1=np.array(data1)\n",
        "print(arr1)\n",
        "print(\"Array is of type:\",arr1)\n",
        "print(\"No of dimension:\",arr1.ndim)\n",
        "print(\"Shape of array:\",arr1.shape)\n",
        "print(\"Size of array:\",arr1.size)\n",
        "print(\"Array stores elements of type:\",arr1.dtype)\n",
        "\n"
      ]
    }
  ]
}