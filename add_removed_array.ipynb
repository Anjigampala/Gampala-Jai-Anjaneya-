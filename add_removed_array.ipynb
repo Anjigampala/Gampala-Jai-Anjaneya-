{
  "nbformat": 4,
  "nbformat_minor": 0,
  "metadata": {
    "colab": {
      "provenance": [],
      "authorship_tag": "ABX9TyMX5Ljmux4f9foD4bFDG9cJ",
      "include_colab_link": true
    },
    "kernelspec": {
      "name": "python3",
      "display_name": "Python 3"
    },
    "language_info": {
      "name": "python"
    }
  },
  "cells": [
    {
      "cell_type": "markdown",
      "metadata": {
        "id": "view-in-github",
        "colab_type": "text"
      },
      "source": [
        "<a href=\"https://colab.research.google.com/github/Anjigampala/Gampala-Jai-Anjaneya-/blob/main/add_removed_array.ipynb\" target=\"_parent\"><img src=\"https://colab.research.google.com/assets/colab-badge.svg\" alt=\"Open In Colab\"/></a>"
      ]
    },
    {
      "cell_type": "code",
      "execution_count": 2,
      "metadata": {
        "colab": {
          "base_uri": "https://localhost:8080/"
        },
        "id": "i8tztbkgPL63",
        "outputId": "04df2d6e-3168-4b28-87fc-751791e666d1"
      },
      "outputs": [
        {
          "output_type": "stream",
          "name": "stdout",
          "text": [
            "appending a value at the end of the array [1 2 3 4]\n",
            "appending a value to the 2-D array [1 2 3 7 8 9 4]\n",
            "The first array:\n",
            " [[1 2 3]\n",
            " [7 8 9]]\n",
            "The second array:\n",
            " [[11 21 31]\n",
            " [42 52 62]]\n",
            "The resultant array after appending a & b: [ 1  2  3  7  8  9 11 21 31 42 52 62]\n",
            "The resultant array after appending a & b along row: [[ 1  2  3]\n",
            " [ 7  8  9]\n",
            " [11 21 31]\n",
            " [42 52 62]]\n",
            "The resultant array after appending a & b along column: [[ 1  2  3 11 21 31]\n",
            " [ 7  8  9 42 52 62]]\n"
          ]
        }
      ],
      "source": [
        "# appending a value at the end of the array using append function\n",
        "import numpy as np\n",
        "a = np.array([1, 2, 3])\n",
        "b=np.append(a,4)\n",
        "print(\"appending a value at the end of the array\", b)\n",
        "a1 = np.array([[1, 2, 3], [7, 8, 9]])\n",
        "c=np.append(a1,4)\n",
        "print(\"appending a value to the 2-D array\", c)\n",
        "# appending two arrays with axis=None\n",
        "a = np.array([[1, 2, 3], [7, 8, 9]])\n",
        "b = np.array([[11, 21, 31], [42, 52, 62]])\n",
        "print(\"The first array:\\n\",a)\n",
        "print(\"The second array:\\n\",b)\n",
        "c = np.append(a,b)\n",
        "print(\"The resultant array after appending a & b:\", c)\n",
        "# With axis=0\n",
        "c1=np.append(a,b,axis=0)\n",
        "print(\"The resultant array after appending a & b along row:\", c1)\n",
        "# With axis=1\n",
        "c2=np.append(a,b,axis=1)\n",
        "print(\"The resultant array after appending a & b along column:\", c2)\n"
      ]
    }
  ]
}