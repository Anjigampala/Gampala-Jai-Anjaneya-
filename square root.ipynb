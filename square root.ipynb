{
  "nbformat": 4,
  "nbformat_minor": 0,
  "metadata": {
    "colab": {
      "provenance": [],
      "authorship_tag": "ABX9TyP2uTGrSP8r3ReKUP9DYBrY",
      "include_colab_link": true
    },
    "kernelspec": {
      "name": "python3",
      "display_name": "Python 3"
    },
    "language_info": {
      "name": "python"
    }
  },
  "cells": [
    {
      "cell_type": "markdown",
      "metadata": {
        "id": "view-in-github",
        "colab_type": "text"
      },
      "source": [
        "<a href=\"https://colab.research.google.com/github/Anjigampala/Gampala-Jai-Anjaneya-/blob/main/square%20root.ipynb\" target=\"_parent\"><img src=\"https://colab.research.google.com/assets/colab-badge.svg\" alt=\"Open In Colab\"/></a>"
      ]
    },
    {
      "cell_type": "code",
      "execution_count": 6,
      "metadata": {
        "colab": {
          "base_uri": "https://localhost:8080/"
        },
        "id": "9NyZGuTCIFKD",
        "outputId": "24ef188f-c4b6-4b18-fb21-da87f8bbfe6b"
      },
      "outputs": [
        {
          "output_type": "stream",
          "name": "stdout",
          "text": [
            "Element -wise logarithm of the array: [[  0.   1.   2. -inf]]\n",
            "Element-wise logarithm of the array: [[0.         0.43429448 0.86858896       -inf]]\n",
            "Element-wise logarithm of the array: [[0.         1.44269504 2.88539008       -inf]]\n",
            "square roots of elements of the array [ 1.  2.  3.  6.  7.  8.  9. 10.]\n",
            "Largest element is: 9\n",
            "Row-wise maximum elements: [6 7 9]\n",
            "Column-wise minimum elements: [1 1 2]\n",
            "[[ 7  8  9 12 13 15 17]\n",
            " [18 19 20 11 13 19 21]]\n",
            "202\n",
            "[25 27 29 23 26 34 38]\n",
            "[ 81 121]\n"
          ]
        },
        {
          "output_type": "stream",
          "name": "stderr",
          "text": [
            "<ipython-input-6-66dcb26675af>:5: RuntimeWarning: divide by zero encountered in log\n",
            "  print(\"Element -wise logarithm of the array:\", np.log(a))\n",
            "<ipython-input-6-66dcb26675af>:8: RuntimeWarning: divide by zero encountered in log10\n",
            "  print(\"Element-wise logarithm of the array:\", np.log10(a))\n",
            "<ipython-input-6-66dcb26675af>:11: RuntimeWarning: divide by zero encountered in log2\n",
            "  print(\"Element-wise logarithm of the array:\", np.log2(a))\n"
          ]
        }
      ],
      "source": [
        "# other mathematical functions\n",
        "import numpy as np\n",
        "# natural logarithm\n",
        "a=np.array([[1, np.e, np.e**2, 0]])\n",
        "print(\"Element -wise logarithm of the array:\", np.log(a))\n",
        "# log base 10\n",
        "b=np.array([100, 1000, 50, 1e-15])\n",
        "print(\"Element-wise logarithm of the array:\", np.log10(a))\n",
        "# log base 2\n",
        "c=np.array([0, 1, 2, 4, 8, 16,32])\n",
        "print(\"Element-wise logarithm of the array:\", np.log2(a))\n",
        "# square root\n",
        "d=np.array([1, 4, 9, 36, 49, 64, 81, 100])\n",
        "print(\"square roots of elements of the array\", np.sqrt(d))\n",
        "# minimum and maximum of the elements in the array\n",
        "arr = np.array([[1, 5, 6], [4, 7, 2], [3, 1, 9]])\n",
        "print (\"Largest element is:\", arr.max()) # maximum element of array\n",
        "print (\"Row-wise maximum elements:\", arr.max(axis = 1))\n",
        "print (\"Column-wise minimum elements:\", arr.min(axis = 0)) # minimum element of array\n",
        "# sum of elements in the array\n",
        "e=np.array([[7, 8, 9, 12, 13, 15, 17],[18, 19, 20, 11, 13, 19, 21]])\n",
        "print(e)\n",
        "print(e.sum())\n",
        "print(e.sum(axis=0)) # summation along row (axis=0)\n",
        "print(e.sum(axis=1)) # summation along column (axis=1)\n"
      ]
    }
  ]
}