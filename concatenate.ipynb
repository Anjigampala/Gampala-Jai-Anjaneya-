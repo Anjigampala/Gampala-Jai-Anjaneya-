{
  "nbformat": 4,
  "nbformat_minor": 0,
  "metadata": {
    "colab": {
      "provenance": [],
      "authorship_tag": "ABX9TyN/ZuKkdaNqEaG2zC4t7B1W",
      "include_colab_link": true
    },
    "kernelspec": {
      "name": "python3",
      "display_name": "Python 3"
    },
    "language_info": {
      "name": "python"
    }
  },
  "cells": [
    {
      "cell_type": "markdown",
      "metadata": {
        "id": "view-in-github",
        "colab_type": "text"
      },
      "source": [
        "<a href=\"https://colab.research.google.com/github/Anjigampala/Gampala-Jai-Anjaneya-/blob/main/concatenate.ipynb\" target=\"_parent\"><img src=\"https://colab.research.google.com/assets/colab-badge.svg\" alt=\"Open In Colab\"/></a>"
      ]
    },
    {
      "cell_type": "code",
      "execution_count": 2,
      "metadata": {
        "colab": {
          "base_uri": "https://localhost:8080/"
        },
        "id": "r5WT9WHRVlFW",
        "outputId": "cfe17426-1897-4d75-ba85-8c58cea9909b"
      },
      "outputs": [
        {
          "output_type": "stream",
          "name": "stdout",
          "text": [
            "Concatenate two arrays along the row [[1 2]\n",
            " [3 4]\n",
            " [5 6]]\n",
            "Concatenate two arrays along the column [[1 2 5]\n",
            " [3 4 6]]\n",
            "Concatenate the values of two arrays with no axis [1 2 3 4 5 6]\n",
            "Stacking arrays in sequence vertically [[1 2 3]\n",
            " [4 5 6]]\n",
            "Stacking arrays in sequence horizontally [1 2 3 4 5 6]\n"
          ]
        }
      ],
      "source": [
        "# np.concatenate\n",
        "import numpy as np\n",
        "a = np.array([[1, 2], [3, 4]])\n",
        "b = np.array([[5, 6]])\n",
        "print(\"Concatenate two arrays along the row\", np.concatenate((a, b), axis=0))\n",
        "print(\"Concatenate two arrays along the column\", np.concatenate((a, b.T),axis=1))\n",
        "print(\"Concatenate the values of two arrays with no axis\",np.concatenate((a,b), axis=None))\n",
        "# vstack\n",
        "a = np.array([1, 2, 3])\n",
        "b = np.array([4, 5, 6])\n",
        "print(\"Stacking arrays in sequence vertically\", np.vstack((a,b)))\n",
        "#hstack\n",
        "print(\"Stacking arrays in sequence horizontally\", np.hstack((a,b)))"
      ]
    }
  ]
}