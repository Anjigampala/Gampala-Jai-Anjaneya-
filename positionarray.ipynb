{
  "nbformat": 4,
  "nbformat_minor": 0,
  "metadata": {
    "colab": {
      "provenance": [],
      "authorship_tag": "ABX9TyNsdheDStDwcAxukBvzf5/g",
      "include_colab_link": true
    },
    "kernelspec": {
      "name": "python3",
      "display_name": "Python 3"
    },
    "language_info": {
      "name": "python"
    }
  },
  "cells": [
    {
      "cell_type": "markdown",
      "metadata": {
        "id": "view-in-github",
        "colab_type": "text"
      },
      "source": [
        "<a href=\"https://colab.research.google.com/github/Anjigampala/Gampala-Jai-Anjaneya-/blob/main/positionarray.ipynb\" target=\"_parent\"><img src=\"https://colab.research.google.com/assets/colab-badge.svg\" alt=\"Open In Colab\"/></a>"
      ]
    },
    {
      "cell_type": "code",
      "execution_count": 2,
      "metadata": {
        "colab": {
          "base_uri": "https://localhost:8080/"
        },
        "id": "t0v7QKSpR2Pn",
        "outputId": "3c8acf76-ce04-40d8-c9c5-4f552cb9ab56"
      },
      "outputs": [
        {
          "output_type": "stream",
          "name": "stdout",
          "text": [
            "arr : \n",
            " [5 6 7 8 1 2]\n",
            "Shape :  (6,)\n",
            "\n",
            "deleteing 2 from array : \n",
            " [5 6 8 1 2]\n",
            "Shape :  (5,)\n",
            "\n",
            " [5 7 1 2]\n",
            "\n",
            " (4,)\n",
            "arr : \n",
            " [[ 0  1  2  3]\n",
            " [ 4  5  6  7]\n",
            " [ 8  9 10 11]]\n",
            "Shape :  (3, 4)\n",
            "\n",
            "deleteing arr 2 times : \n",
            " [[ 0  1  2  3]\n",
            " [ 8  9 10 11]]\n",
            "Shape :  (2, 4)\n",
            "\n",
            "deleteing arr 2 times : \n",
            " [[ 0  2  3]\n",
            " [ 4  6  7]\n",
            " [ 8 10 11]]\n",
            "Shape :  (3, 3)\n"
          ]
        }
      ],
      "source": [
        "# Deleting the values at particular positions in the array\n",
        "#Working on 1D\n",
        "import numpy as np\n",
        "arr = np.array([5,6,7,8,1,2])\n",
        "print(\"arr : \\n\", arr)\n",
        "print(\"Shape : \", arr.shape)\n",
        "# deletion from 1D array\n",
        "object = 2\n",
        "a = np.delete(arr, object)\n",
        "print(\"\\ndeleteing {} from array : \\n {}\".format(object,a))\n",
        "print(\"Shape : \", a.shape)\n",
        "\n",
        "object = [1, 3]\n",
        "b = np.delete(arr, object)\n",
        "#print(\"\\ndeleteing {} from array : \\n {}\".format(object,a))\n",
        "#print(\"Shape : \", a.shape)\n",
        "print(\"\\n\",b)\n",
        "print(\"\\n\",b.shape)\n",
        "arr = np.arange(12).reshape(3, 4)\n",
        "print(\"arr : \\n\", arr)\n",
        "print(\"Shape : \", arr.shape)\n",
        "# deletion from 2D array\n",
        "a = np.delete(arr, 1, 0)\n",
        "print(\"\\ndeleteing arr 2 times : \\n\", a)\n",
        "print(\"Shape : \", a.shape)\n",
        "# deletion from 2D array\n",
        "a = np.delete(arr, 1, 1)\n",
        "print(\"\\ndeleteing arr 2 times : \\n\", a)\n",
        "print(\"Shape : \", a.shape)\n"
      ]
    }
  ]
}