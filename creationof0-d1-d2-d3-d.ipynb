{
  "nbformat": 4,
  "nbformat_minor": 0,
  "metadata": {
    "colab": {
      "provenance": [],
      "authorship_tag": "ABX9TyPthsNEYTQEM9lG9qqCgcuX",
      "include_colab_link": true
    },
    "kernelspec": {
      "name": "python3",
      "display_name": "Python 3"
    },
    "language_info": {
      "name": "python"
    }
  },
  "cells": [
    {
      "cell_type": "markdown",
      "metadata": {
        "id": "view-in-github",
        "colab_type": "text"
      },
      "source": [
        "<a href=\"https://colab.research.google.com/github/Anjigampala/Gampala-Jai-Anjaneya-/blob/main/creationof0-d1-d2-d3-d.ipynb\" target=\"_parent\"><img src=\"https://colab.research.google.com/assets/colab-badge.svg\" alt=\"Open In Colab\"/></a>"
      ]
    },
    {
      "cell_type": "code",
      "execution_count": 3,
      "metadata": {
        "colab": {
          "base_uri": "https://localhost:8080/"
        },
        "id": "Jw7-y3YRTRep",
        "outputId": "ce362571-df09-4918-d872-526355485a93"
      },
      "outputs": [
        {
          "output_type": "stream",
          "name": "stdout",
          "text": [
            "Array is of type: <class 'numpy.ndarray'>\n",
            "No of dimension: 0\n",
            "Shape of array: ()\n",
            "Size of array: 1\n",
            "Array stores elements of type: int64\n",
            "Array is of type: <class 'numpy.ndarray'>\n",
            "No of dimension: 1\n",
            "Shape of array: (3,)\n",
            "Size of array: 3\n",
            "Array stores elements of type: int64\n",
            "Array is of type: <class 'numpy.ndarray'>\n",
            "No of dimension: 2\n",
            "Shape of array: (2, 3)\n",
            "Size of array: 6\n",
            "Array stores elements of type: int64\n",
            "Array is of type: <class 'numpy.ndarray'>\n",
            "No of dimension: 3\n",
            "Shape of array: (1, 3, 3)\n",
            "Size of array: 9\n",
            "Array stores elements of type: int64\n"
          ]
        }
      ],
      "source": [
        "import numpy as np\n",
        "arr=np.array(37)\n",
        "print(\"Array is of type:\",type(arr))\n",
        "print(\"No of dimension:\",arr.ndim)\n",
        "print(\"Shape of array:\",arr.shape)\n",
        "print(\"Size of array:\",arr.size)\n",
        "print(\"Array stores elements of type:\",arr.dtype)\n",
        "\n",
        "arr1=np.array([1,2,3])\n",
        "print(\"Array is of type:\",type(arr1))\n",
        "print(\"No of dimension:\",arr1.ndim)\n",
        "print(\"Shape of array:\",arr1.shape)\n",
        "print(\"Size of array:\",arr1.size)\n",
        "print(\"Array stores elements of type:\",arr1.dtype)\n",
        "\n",
        "arr2=np.array([[1,2,3],[4,2,5]])\n",
        "print(\"Array is of type:\",type(arr2))\n",
        "print(\"No of dimension:\",arr2.ndim)\n",
        "print(\"Shape of array:\",arr2.shape)\n",
        "print(\"Size of array:\",arr2.size)\n",
        "print(\"Array stores elements of type:\",arr2.dtype)\n",
        "\n",
        "\n",
        "arr3=np.array([[[1,2,3],[4,5,6],[7,8,9]]])\n",
        "print(\"Array is of type:\",type(arr3))\n",
        "print(\"No of dimension:\",arr3.ndim)\n",
        "print(\"Shape of array:\",arr3.shape)\n",
        "print(\"Size of array:\",arr3.size)\n",
        "print(\"Array stores elements of type:\",arr3.dtype)\n",
        "\n",
        "\n",
        "\n"
      ]
    }
  ]
}