{
  "nbformat": 4,
  "nbformat_minor": 0,
  "metadata": {
    "colab": {
      "provenance": [],
      "authorship_tag": "ABX9TyOh/RtBkeC5VAmBaUL8onAB",
      "include_colab_link": true
    },
    "kernelspec": {
      "name": "python3",
      "display_name": "Python 3"
    },
    "language_info": {
      "name": "python"
    }
  },
  "cells": [
    {
      "cell_type": "markdown",
      "metadata": {
        "id": "view-in-github",
        "colab_type": "text"
      },
      "source": [
        "<a href=\"https://colab.research.google.com/github/Anjigampala/Gampala-Jai-Anjaneya-/blob/main/arithmetic.ipynb\" target=\"_parent\"><img src=\"https://colab.research.google.com/assets/colab-badge.svg\" alt=\"Open In Colab\"/></a>"
      ]
    },
    {
      "cell_type": "code",
      "execution_count": 3,
      "metadata": {
        "colab": {
          "base_uri": "https://localhost:8080/",
          "height": 0
        },
        "id": "hbYgWgDKbIrR",
        "outputId": "72353046-2d34-407b-81a0-39834ae00404"
      },
      "outputs": [
        {
          "output_type": "stream",
          "name": "stdout",
          "text": [
            "Adding 1 to every element: [2 3 6 4]\n",
            "Subtracting 3 from each element: [-2 -1  2  0]\n",
            "Multiplying each element by 10: [10 20 50 30]\n",
            "Squaring each element: [ 1  4 25  9]\n",
            "Doubled each element of original array: [ 2  4 10  6]\n",
            "Addition of two arrays: [[ 5.  7. 10.]\n",
            " [ 7. 11. 15.]]\n",
            "Addition of two arrays using add function: [[ 5.  7. 10.]\n",
            " [ 7. 11. 15.]]\n",
            "Subtraction of two arrays: [[-3. -3. -4.]\n",
            " [ 1. -1. -3.]]\n",
            "Subtraction of two arrays using subtract function: [[-3. -3. -4.]\n",
            " [ 1. -1. -3.]]\n",
            "Element-wise multiplication of two arrays: [[ 4. 10. 21.]\n",
            " [12. 30. 54.]]\n",
            "Matrix multiplication using dot: [[10. 17.]\n",
            " [31. 50.]]\n",
            "Matrix multiplication using matmul: [[10. 17.]\n",
            " [31. 50.]]\n",
            "Matrix multiplication using @ symbol: [[10. 17.]\n",
            " [31. 50.]]\n",
            "Division of arrays: [[0.25       0.4       ]\n",
            " [1.33333333 0.83333333]]\n",
            "Division of arrays using divide function: [[0.25       0.4       ]\n",
            " [1.33333333 0.83333333]]\n"
          ]
        }
      ],
      "source": [
        "import numpy as np\n",
        "# operations on single array\n",
        "a = np.array([1, 2, 5, 3])\n",
        "print (\"Adding 1 to every element:\", a+1) # add 1 to every element\n",
        "print (\"Subtracting 3 from each element:\", a-3) # subtract 3 from eachelement\n",
        "print (\"Multiplying each element by 10:\", a*10) # multiply each element by 10\n",
        "print (\"Squaring each element:\", a**2) # square each element\n",
        "a *= 2 # modify existing array\n",
        "print (\"Doubled each element of original array:\", a)\n",
        "# Arithmetic operations\n",
        "arr1 = np.array([[1., 2., 3.], [4., 5., 6.]])\n",
        "arr2=np.array([[4., 5., 7.], [3., 6., 9.]])\n",
        "# Addition of arrays\n",
        "s_arr= arr1+arr2\n",
        "s_arr1=np.add(arr1,arr2)\n",
        "print (\"Addition of two arrays:\", s_arr)\n",
        "print (\"Addition of two arrays using add function:\", s_arr1)\n",
        "# subtraction of arrays\n",
        "su_arr=arr1-arr2\n",
        "su_arr1=np.subtract(arr1,arr2)\n",
        "print (\"Subtraction of two arrays:\", su_arr)\n",
        "print (\"Subtraction of two arrays using subtract function:\", su_arr)\n",
        "# Element-wise multiplication\n",
        "m_arr=arr1*arr2\n",
        "print (\"Element-wise multiplication of two arrays:\", m_arr)\n",
        "# Matrix multiplication\n",
        "arr1 = np.array([[1., 2.], [4., 5.]])\n",
        "arr2=np.array([[4., 5.], [3., 6.]])\n",
        "m_arr1=np.dot(arr1, arr2)\n",
        "m_arr2=np.matmul(arr1, arr2)\n",
        "m_arr3=arr1@arr2\n",
        "print (\"Matrix multiplication using dot:\", m_arr1)\n",
        "print (\"Matrix multiplication using matmul:\", m_arr2)\n",
        "print (\"Matrix multiplication using @ symbol:\", m_arr3)\n",
        "# Element-wise Division\n",
        "d_arr=arr1/arr2\n",
        "d_arr1=np.divide(arr1,arr2)\n",
        "print (\"Division of arrays:\", d_arr)\n",
        "print (\"Division of arrays using divide function:\", d_arr)\n",
        "\n",
        "\n"
      ]
    }
  ]
}